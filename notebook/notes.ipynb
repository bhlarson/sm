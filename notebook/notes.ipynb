{
 "cells": [
  {
   "cell_type": "markdown",
   "metadata": {},
   "source": [
    "# Sytem Modeling Development Notes"
   ]
  },
  {
   "cell_type": "markdown",
   "metadata": {},
   "source": [
    "It has been a decade since I have focused a great deal of attention on system design and modeling as part of my PhD research.  Since then, I have been working on the electron microscope beam control system, neural networks, Kubernets clustering, python algorithm development and web development.\n",
    "\n",
    "I think that this broader technology growth can overcome many of the obstacles to rapidly design systems.\n",
    "\n",
    "Goals:\n",
    "1. Is Jupyter a method to take mixed-media notes?  \n",
    "    - Can I replace a paper notebook with an electronic notebook?\n",
    "    - Can I include hand-drawn content?\n",
    "    - Can I include live equations\n",
    "    - Can Include charts?\n",
    "    - Can I organize different notebooks together and find information efficiently across notebooks?\n",
    "    - Can I backup and restore data in Git\n",
    "    - Can the data be maintained over the long term?\n",
    "1. Organize and navigate the data to crate a system\n",
    "1. Build a library of available subsystems\n",
    "1. Provide a routine ability to simply combine these systems in physical, electrical, dynamic, structural, control, ... design\n",
    "1. Able to automatically produce the systems composed of 2 subsystems\n",
    "1. Able to automatically identify and correct interference\n",
    "1. Able to predict system behavior and prediction error\n",
    "1. Able to crate and refine models and error based on physical system behavior\n",
    "1. Able to search and refine design based on improved models\n"
   ]
  },
  {
   "cell_type": "markdown",
   "metadata": {},
   "source": [
    "The following sketch outlines a simple multi-disciplinary system that I used in my PhD publications: a solar-powered airplane power plant.   \n",
    "![Solar System Directed Graph](../img/DirectedGraph.png)"
   ]
  },
  {
   "cell_type": "markdown",
   "metadata": {},
   "source": [
    "Some observations:\n",
    "- I have describe the system as a directed graph. \n",
    "- It is a cyclic graph: most nodes depend on he system state.  For example, the battery voltage will change dependent on the current draw from the battery\n",
    "- Component models include ordinary differential equations (differential algebraic equations) (battery, motor, financial model), partial differential equations (propeller), discrete time systems (MPPT, BLDC controller), data from manufacturer tables (solar cells, simplified propeller model), geometric models (CAD mounting), process instructions (fabrication, assembly)"
   ]
  },
  {
   "cell_type": "markdown",
   "metadata": {},
   "source": [
    "In my PhD work, I assumed that I could not control component model state.  It was hidden, within a modeling tool and could not be saved or restored.  ]\n",
    "- Microservice programming has changed this.  You need to be able to terminate, restore, and replicate a microservice without loosing its data.  If this is the case, a system solver can progress based a specific state but return to it perform the computation again.  This could be useful to get a rough answer that could be refined if necessary (e.g. numerical instability.)\n",
    "- Creating a reliable compute cluster is now the expectation.  \n",
    "- The explosion of python has produced a vast number of modeling libraries in the public domain.   \n",
    "- Machine learning can be used in isolation or along side other forms of modeling to create models or model corrections from data\n",
    "- There are a large number of inexpensive, powerful, open-source contollers\n",
    "- There is a large number of open-source fabriaction tools developed by the 3D printing community\n"
   ]
  },
  {
   "cell_type": "markdown",
   "metadata": {},
   "source": [
    "\n"
   ]
  },
  {
   "cell_type": "markdown",
   "metadata": {},
   "source": [
    "30 January 2022"
   ]
  }
 ],
 "metadata": {
  "interpreter": {
   "hash": "f92b2924b84ff19c1c3dc485f7644d4486f64738191026bf8e6de303969141b5"
  },
  "kernelspec": {
   "display_name": "Python 3 (ipykernel)",
   "language": "python",
   "name": "python3"
  },
  "language_info": {
   "codemirror_mode": {
    "name": "ipython",
    "version": 3
   },
   "file_extension": ".py",
   "mimetype": "text/x-python",
   "name": "python",
   "nbconvert_exporter": "python",
   "pygments_lexer": "ipython3",
   "version": "3.9.6"
  }
 },
 "nbformat": 4,
 "nbformat_minor": 4
}
